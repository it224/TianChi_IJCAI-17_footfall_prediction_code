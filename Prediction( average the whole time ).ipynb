{
 "cells": [
  {
   "cell_type": "code",
   "execution_count": null,
   "metadata": {
    "collapsed": true
   },
   "outputs": [],
   "source": [
    "# -*- coding: utf-8 -*-\n",
    "import os\n",
    "import pandas as pd\n",
    "import numpy as np\n",
    "import matplotlib.pyplot as plt\n",
    "import seaborn as sns\n",
    "import datetime\n",
    "import time\n",
    "                                                                                                                                                                                                                                                                                                                                                                                                                                                                                                                                                                                                                                                                                                                                                                                                                                                                    \n",
    "%matplotlib inline"
   ]
  },
  {
   "cell_type": "code",
   "execution_count": null,
   "metadata": {
    "collapsed": true
   },
   "outputs": [],
   "source": [
    "path = os.getcwd().split('TianChi_IJCAI-17_footfall_prediction_code')[0]\n",
    "\n",
    "#shop_info = pd.read_table(path+'dataset/shop_info.txt',names=['shop_id','city_name','location_id','per_pay','score','comment_cnt','shop_level','cate_1_name','cate_2_name','cate_3_name'],header=None,delimiter=',',encoding='utf8',delim_whitespace=False,index_col=False)\n",
    "shop_info = pd.read_table(path+'dataset/shop info with count.csv',delimiter=',',encoding='utf8',delim_whitespace=False,index_col=False)\n",
    "\n",
    "shop_info.index = shop_info['shop_id'].tolist()"
   ]
  },
  {
   "cell_type": "code",
   "execution_count": null,
   "metadata": {
    "collapsed": true
   },
   "outputs": [],
   "source": [
    "def dateRange(start, end):\n",
    "    days = (datetime.datetime.strptime(end, \"%Y-%m-%d\") - datetime.datetime.strptime(start, \"%Y-%m-%d\")).days + 1\n",
    "    return [datetime.datetime.strftime(datetime.datetime.strptime(start, \"%Y-%m-%d\") + datetime.timedelta(i), \"%Y-%m-%d\") for i in xrange(days)]\n",
    "#len(dateRange('2015-07-01','2016-10-31'))"
   ]
  },
  {
   "cell_type": "code",
   "execution_count": null,
   "metadata": {
    "collapsed": true
   },
   "outputs": [],
   "source": [
    "def cal_total_count_avg_the_whole_time(x):\n",
    "    start_day = ''\n",
    "    for day in dateRange('2015-07-01','2016-10-31'):\n",
    "        if x[day]>0:\n",
    "            start_day = day\n",
    "            print start_day\n",
    "            break\n",
    " \n",
    "    return float(shop_info.loc[1]['2015-07-01':'2016-10-31'].sum()) /  len(shop_info.loc[1][start_day:'2016-10-31'])\n",
    "            \n",
    "def get_total_count_avg_the_whole_time():\n",
    "    shop_info['total_count_avg'] = shop_info.apply(lambda x: cal_total_count_avg_the_whole_time(x),axis=1)\n",
    "get_total_count_avg_the_whole_time()"
   ]
  },
  {
   "cell_type": "code",
   "execution_count": null,
   "metadata": {
    "collapsed": true
   },
   "outputs": [],
   "source": [
    "for day_number in range(1,15): #1～14\n",
    "    predict_day_col = 'predict_day_'+str(day_number)\n",
    "    print predict_day_col\n",
    "    shop_info[predict_day_col] = shop_info['total_count_avg'].apply(lambda x:int(x))"
   ]
  },
  {
   "cell_type": "code",
   "execution_count": null,
   "metadata": {
    "collapsed": true
   },
   "outputs": [],
   "source": [
    "shop_info.loc[:,'predict_day_1':'predict_day_14'].to_csv('Prediction(average the whole time).csv',sep=',',index=True,columns=None)"
   ]
  }
 ],
 "metadata": {
  "kernelspec": {
   "display_name": "Python [Root]",
   "language": "python",
   "name": "Python [Root]"
  },
  "language_info": {
   "codemirror_mode": {
    "name": "ipython",
    "version": 2
   },
   "file_extension": ".py",
   "mimetype": "text/x-python",
   "name": "python",
   "nbconvert_exporter": "python",
   "pygments_lexer": "ipython2",
   "version": "2.7.12"
  }
 },
 "nbformat": 4,
 "nbformat_minor": 0
}
