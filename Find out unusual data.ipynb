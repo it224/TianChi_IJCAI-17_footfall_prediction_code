{
 "cells": [
  {
   "cell_type": "code",
   "execution_count": 1,
   "metadata": {
    "collapsed": true
   },
   "outputs": [],
   "source": [
    "# -*- coding: utf-8 -*-\n",
    "import os\n",
    "import pandas as pd\n",
    "import numpy as np\n",
    "import matplotlib.pyplot as plt\n",
    "import seaborn as sns\n",
    "import datetime\n",
    "import time\n",
    "from matplotlib.ticker import MultipleLocator \n",
    "\n",
    "%matplotlib inline"
   ]
  },
  {
   "cell_type": "code",
   "execution_count": 2,
   "metadata": {
    "collapsed": true
   },
   "outputs": [],
   "source": [
    "path = os.getcwd().split('TianChi_IJCAI-17_footfall_prediction_code')[0]\n",
    "\n",
    "#shop_info = pd.read_table(path+'dataset/shop_info.txt',names=['shop_id','city_name','location_id','per_pay','score','comment_cnt','shop_level','cate_1_name','cate_2_name','cate_3_name'],header=None,delimiter=',',encoding='utf8',delim_whitespace=False,index_col=False)\n",
    "shop_info = pd.read_table(path+'dataset/shop info with count.csv',delimiter=',',encoding='utf8',delim_whitespace=False,index_col=False)\n",
    "\n",
    "shop_info.index = shop_info['shop_id'].tolist()"
   ]
  },
  {
   "cell_type": "markdown",
   "metadata": {},
   "source": [
    "## 基本的计算"
   ]
  },
  {
   "cell_type": "code",
   "execution_count": 9,
   "metadata": {
    "collapsed": true
   },
   "outputs": [],
   "source": [
    "def dateRange(start, end):\n",
    "    days = (datetime.datetime.strptime(end, \"%Y-%m-%d\") - datetime.datetime.strptime(start, \"%Y-%m-%d\")).days + 1\n",
    "    return [datetime.datetime.strftime(datetime.datetime.strptime(start, \"%Y-%m-%d\") + datetime.timedelta(i), \"%Y-%m-%d\") for i in xrange(days)]\n",
    "#len(dateRange('2015-07-01','2016-10-31'))"
   ]
  },
  {
   "cell_type": "markdown",
   "metadata": {},
   "source": [
    "### 计算每周count"
   ]
  },
  {
   "cell_type": "code",
   "execution_count": 4,
   "metadata": {
    "collapsed": true
   },
   "outputs": [
    {
     "name": "stdout",
     "output_type": "stream",
     "text": [
      "2015-07-07 2015-07-13\n",
      "2015-07-14 2015-07-20\n",
      "2015-07-21 2015-07-27\n",
      "2015-07-28 2015-08-03\n",
      "2015-08-04 2015-08-10\n",
      "2015-08-11 2015-08-17\n",
      "2015-08-18 2015-08-24\n",
      "2015-08-25 2015-08-31\n",
      "2015-09-01 2015-09-07\n",
      "2015-09-08 2015-09-14\n",
      "2015-09-15 2015-09-21\n",
      "2015-09-22 2015-09-28\n",
      "2015-09-29 2015-10-05\n",
      "2015-10-06 2015-10-12\n",
      "2015-10-13 2015-10-19\n",
      "2015-10-20 2015-10-26\n",
      "2015-10-27 2015-11-02\n",
      "2015-11-03 2015-11-09\n",
      "2015-11-10 2015-11-16\n",
      "2015-11-17 2015-11-23\n",
      "2015-11-24 2015-11-30\n",
      "2015-12-01 2015-12-07\n",
      "2015-12-08 2015-12-14\n",
      "2015-12-15 2015-12-21\n",
      "2015-12-22 2015-12-28\n",
      "2015-12-29 2016-01-04\n",
      "2016-01-05 2016-01-11\n",
      "2016-01-12 2016-01-18\n",
      "2016-01-19 2016-01-25\n",
      "2016-01-26 2016-02-01\n",
      "2016-02-02 2016-02-08\n",
      "2016-02-09 2016-02-15\n",
      "2016-02-16 2016-02-22\n",
      "2016-02-23 2016-02-29\n",
      "2016-03-01 2016-03-07\n",
      "2016-03-08 2016-03-14\n",
      "2016-03-15 2016-03-21\n",
      "2016-03-22 2016-03-28\n",
      "2016-03-29 2016-04-04\n",
      "2016-04-05 2016-04-11\n",
      "2016-04-12 2016-04-18\n",
      "2016-04-19 2016-04-25\n",
      "2016-04-26 2016-05-02\n",
      "2016-05-03 2016-05-09\n",
      "2016-05-10 2016-05-16\n",
      "2016-05-17 2016-05-23\n",
      "2016-05-24 2016-05-30\n",
      "2016-05-31 2016-06-06\n",
      "2016-06-07 2016-06-13\n",
      "2016-06-14 2016-06-20\n",
      "2016-06-21 2016-06-27\n",
      "2016-06-28 2016-07-04\n",
      "2016-07-05 2016-07-11\n",
      "2016-07-12 2016-07-18\n",
      "2016-07-19 2016-07-25\n",
      "2016-07-26 2016-08-01\n",
      "2016-08-02 2016-08-08\n",
      "2016-08-09 2016-08-15\n",
      "2016-08-16 2016-08-22\n",
      "2016-08-23 2016-08-29\n",
      "2016-08-30 2016-09-05\n",
      "2016-09-06 2016-09-12\n",
      "2016-09-13 2016-09-19\n",
      "2016-09-20 2016-09-26\n",
      "2016-09-27 2016-10-03\n",
      "2016-10-04 2016-10-10\n",
      "2016-10-11 2016-10-17\n",
      "2016-10-18 2016-10-24\n",
      "2016-10-25 2016-10-31\n"
     ]
    }
   ],
   "source": [
    "\n",
    "#  占个格子 &&  cal avg sales count each day\n",
    "total_day = pd.to_datetime('2016-11-01').date()-pd.to_datetime('2015-07-01').date() \n",
    "total_day = total_day.days\n",
    "total_week = total_day / 7  # 69个\n",
    "start_day = pd.to_datetime('2016-11-01').date() - datetime.timedelta(total_week*7)\n",
    "#print start_day\n",
    "for week_number in range(total_week): # 0~68\n",
    "    start_day_of_week = start_day +  datetime.timedelta(week_number*7) \n",
    "    end_day_of_week = start_day_of_week + datetime.timedelta(6)\n",
    "    start_day_of_week =   start_day_of_week.strftime(\"%Y-%m-%d\")\n",
    "    end_day_of_week = end_day_of_week.strftime(\"%Y-%m-%d\")\n",
    "    print start_day_of_week,end_day_of_week\n",
    "    shop_info['wk_'+str(week_number)] = shop_info.loc[:,start_day_of_week:end_day_of_week].mean(axis=1)\n"
   ]
  },
  {
   "cell_type": "markdown",
   "metadata": {},
   "source": [
    "## 定义的数据可视化函数"
   ]
  },
  {
   "cell_type": "code",
   "execution_count": 3,
   "metadata": {
    "collapsed": true
   },
   "outputs": [],
   "source": [
    "def draw_week_id(id,start_date='2015-07-01',end_date='2016-10-31',figsieze=(16,9)):\n",
    "    shop_info.loc[id,'wk_0':'wk_68'].T.plot(figsize=(16,9))\n",
    "def draw_week_ids(ids,start_date='2015-07-01',end_date='2016-10-31',figsieze=(16,9)):\n",
    "    shop_info.loc[ids,'wk_0':'wk_68'].T.plot(figsize=(16,9))\n",
    "def draw_ids(ids,start_date='2015-07-01',end_date='2016-10-31',by_week=False,figsize=(16,9)):\n",
    "    if by_week:\n",
    "        xmajorLocator = MultipleLocator(7) #将x轴次刻度标签设置为7的倍数\n",
    "        ax = plt.subplot(111) \n",
    "        ax.xaxis.set_major_locator(xmajorLocator)\n",
    "    shop_info.loc[ids,start_date:end_date].T.plot(figsize=figsize)\n",
    "def draw_ids_avg(ids,start_date='2015-07-01',end_date='2016-10-31',by_week=True,figsize=(70,10)):\n",
    "    if by_week:\n",
    "        xmajorLocator   = MultipleLocator(7) #将x轴次刻度标签设置为5的倍数\n",
    "        ax = plt.subplot(111) \n",
    "        ax.xaxis.set_major_locator(xmajorLocator)\n",
    "    shop_info.loc[ids,start_date:end_date].mean(axis=0).plot(figsize=figsize)\n",
    "def draw_ids_diff(ids,start_date='2015-07-01',end_date='2016-10-31',by_week=False,figsize=(16,9)):  \n",
    "    if by_week:\n",
    "        xmajorLocator   = MultipleLocator(7) #将x轴次刻度标签设置为5的倍数\n",
    "        ax = plt.subplot(111) \n",
    "        ax.xaxis.set_major_locator(xmajorLocator)\n",
    "    (shop_info.loc[ids[0],start_date:end_date]-shop_info.loc[ids[1],start_date:end_date]).plot(figsize=figsize)\n",
    "def draw_id(id,start_date='2015-07-01',end_date='2016-10-31',by_week=False,figsize=(16,9)):\n",
    "    if by_week:\n",
    "        xmajorLocator = MultipleLocator(7) #将x轴次刻度标签设置为7的倍数\n",
    "        ax = plt.subplot(111) \n",
    "        ax.xaxis.set_major_locator(xmajorLocator)\n",
    "    shop_info.loc[id,start_date:end_date].plot(legend=True,figsize=figsize)\n",
    "\n"
   ]
  },
  {
   "cell_type": "markdown",
   "metadata": {},
   "source": [
    "## 最后三周出现零值的"
   ]
  },
  {
   "cell_type": "code",
   "execution_count": 14,
   "metadata": {
    "collapsed": false
   },
   "outputs": [
    {
     "name": "stdout",
     "output_type": "stream",
     "text": [
      "[2, 659, 700, 810, 1109, 1269, 1462, 1464, 1465, 1824, 1925, 1993, 2, 191, 547, 659, 700, 810, 1053, 1109, 1269, 1459, 1462, 1464, 1465, 1824, 1925, 1993, 2, 191, 459, 659, 700, 722, 810, 1053, 1109, 1269, 1459, 1462, 1464, 1465, 1824, 1925, 1993, 2, 191, 659, 700, 810, 1109, 1459, 1462, 1464, 1465, 1661, 1824, 1925, 2, 191, 352, 432, 659, 700, 810, 1109, 1459, 1462, 1465, 1824, 1925, 2, 191, 363, 432, 659, 700, 810, 1109, 1459, 1462, 1465, 1824, 1925, 2, 191, 432, 632, 659, 700, 810, 1109, 1459, 1462, 1824, 1925, 2, 191, 632, 659, 683, 700, 810, 1243, 1459, 1462, 1688, 1824, 1925, 2, 632, 659, 700, 810, 1243, 1462, 1797, 1824, 2, 18, 659, 700, 735, 810, 1380, 1700, 1797, 1824, 397, 480, 659, 700, 707, 810, 1380, 1462, 1715, 1824, 659, 700, 810, 1380, 1462, 1824, 1858, 524, 659, 810, 958, 1824, 1858, 632, 659, 810, 1418, 1824, 1858, 632, 659, 1418, 1486, 1556, 1707, 1824, 1858, 1959, 444, 470, 547, 1185, 1418, 1707, 1824, 1858, 5, 444, 470, 1418, 1707, 1824, 1918, 1163, 1418, 1707, 1824, 513, 1707, 1716, 1824, 1707, 1716, 1824, 1831, 987, 1707, 1824]\n"
     ]
    }
   ],
   "source": [
    "ids_zero_in_last_three_week = []\n",
    "for date in dateRange('2016-10-11','2016-10-31'):\n",
    "    ids_zero_in_last_three_week.extend(shop_info[shop_info[date]==0]['shop_id'].tolist())\n",
    "print ids_zero_in_last_three_week"
   ]
  },
  {
   "cell_type": "code",
   "execution_count": null,
   "metadata": {
    "collapsed": true
   },
   "outputs": [],
   "source": []
  }
 ],
 "metadata": {
  "kernelspec": {
   "display_name": "Python [Root]",
   "language": "python",
   "name": "Python [Root]"
  },
  "language_info": {
   "codemirror_mode": {
    "name": "ipython",
    "version": 2
   },
   "file_extension": ".py",
   "mimetype": "text/x-python",
   "name": "python",
   "nbconvert_exporter": "python",
   "pygments_lexer": "ipython2",
   "version": "2.7.12"
  }
 },
 "nbformat": 4,
 "nbformat_minor": 0
}
